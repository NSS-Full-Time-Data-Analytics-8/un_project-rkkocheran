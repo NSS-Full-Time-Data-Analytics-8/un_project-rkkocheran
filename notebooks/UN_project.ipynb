{
 "cells": [
  {
   "cell_type": "markdown",
   "id": "864075ef",
   "metadata": {},
   "source": [
    "##### 3.\tImport the required packages with their customary aliases.\n",
    "##### 4.\tUse the `%matplotlib inline` magic command so that your plots show in the notebook _without_ having to call `plt.show()` every time."
   ]
  },
  {
   "cell_type": "code",
   "execution_count": 1,
   "id": "509bb4ad",
   "metadata": {},
   "outputs": [],
   "source": [
    "import pandas as pd\n",
    "import numpy as np\n",
    "import matplotlib.pyplot as plt\n",
    "import seaborn as sns\n",
    "\n",
    "%matplotlib inline"
   ]
  },
  {
   "cell_type": "markdown",
   "id": "55d19603",
   "metadata": {},
   "source": [
    "<hr>\n",
    "\n",
    "##### 5.\tUsing the pandas `read_csv()` method, read the GDP dataset into your notebook as a DataFrame called `gdp_df`. Take a look at the first 6 rows.\n",
    "##### 6. Repeat for the internet use dataset. Call this DataFrame `internet_df`. Take a look at the first six rows."
   ]
  },
  {
   "cell_type": "code",
   "execution_count": 3,
   "id": "97bfd50d",
   "metadata": {},
   "outputs": [],
   "source": [
    "gdp_df = pd.read_csv('../data/gdp_percapita.csv')"
   ]
  },
  {
   "cell_type": "code",
   "execution_count": 4,
   "id": "921cbb60",
   "metadata": {},
   "outputs": [
    {
     "data": {
      "text/html": [
       "<div>\n",
       "<style scoped>\n",
       "    .dataframe tbody tr th:only-of-type {\n",
       "        vertical-align: middle;\n",
       "    }\n",
       "\n",
       "    .dataframe tbody tr th {\n",
       "        vertical-align: top;\n",
       "    }\n",
       "\n",
       "    .dataframe thead th {\n",
       "        text-align: right;\n",
       "    }\n",
       "</style>\n",
       "<table border=\"1\" class=\"dataframe\">\n",
       "  <thead>\n",
       "    <tr style=\"text-align: right;\">\n",
       "      <th></th>\n",
       "      <th>Country or Area</th>\n",
       "      <th>Year</th>\n",
       "      <th>Value</th>\n",
       "      <th>Value Footnotes</th>\n",
       "    </tr>\n",
       "  </thead>\n",
       "  <tbody>\n",
       "    <tr>\n",
       "      <th>0</th>\n",
       "      <td>Afghanistan</td>\n",
       "      <td>2020</td>\n",
       "      <td>1970.560169</td>\n",
       "      <td>NaN</td>\n",
       "    </tr>\n",
       "    <tr>\n",
       "      <th>1</th>\n",
       "      <td>Afghanistan</td>\n",
       "      <td>2019</td>\n",
       "      <td>2065.036235</td>\n",
       "      <td>NaN</td>\n",
       "    </tr>\n",
       "    <tr>\n",
       "      <th>2</th>\n",
       "      <td>Afghanistan</td>\n",
       "      <td>2018</td>\n",
       "      <td>2033.804389</td>\n",
       "      <td>NaN</td>\n",
       "    </tr>\n",
       "    <tr>\n",
       "      <th>3</th>\n",
       "      <td>Afghanistan</td>\n",
       "      <td>2017</td>\n",
       "      <td>2058.400221</td>\n",
       "      <td>NaN</td>\n",
       "    </tr>\n",
       "    <tr>\n",
       "      <th>4</th>\n",
       "      <td>Afghanistan</td>\n",
       "      <td>2016</td>\n",
       "      <td>2057.067978</td>\n",
       "      <td>NaN</td>\n",
       "    </tr>\n",
       "  </tbody>\n",
       "</table>\n",
       "</div>"
      ],
      "text/plain": [
       "  Country or Area  Year        Value  Value Footnotes\n",
       "0     Afghanistan  2020  1970.560169              NaN\n",
       "1     Afghanistan  2019  2065.036235              NaN\n",
       "2     Afghanistan  2018  2033.804389              NaN\n",
       "3     Afghanistan  2017  2058.400221              NaN\n",
       "4     Afghanistan  2016  2057.067978              NaN"
      ]
     },
     "execution_count": 4,
     "metadata": {},
     "output_type": "execute_result"
    }
   ],
   "source": [
    "gdp_df.head()"
   ]
  },
  {
   "cell_type": "code",
   "execution_count": 5,
   "id": "5b8b9af9",
   "metadata": {},
   "outputs": [],
   "source": [
    "internet_df = pd.read_csv('../data/internet_use.csv', nrows=4495)\n",
    "internet_df.head()"
   ]
  },
  {
   "cell_type": "markdown",
   "id": "df8ee23d",
   "metadata": {},
   "source": [
    "##### 98. Look at the shape of each DataFrame - how many rows? How many columns?"
   ]
  },
  {
   "cell_type": "code",
   "execution_count": 7,
   "id": "afed4fdd",
   "metadata": {},
   "outputs": [
    {
     "name": "stdout",
     "output_type": "stream",
     "text": [
      "gdp_df has 7176 rows and 4 columns.\n"
     ]
    }
   ],
   "source": [
    "print('gdp_df has', gdp_df.shape[0], 'rows and', gdp_df.shape[1], 'columns.')"
   ]
  },
  {
   "cell_type": "code",
   "execution_count": 8,
   "id": "ad464f90",
   "metadata": {},
   "outputs": [
    {
     "name": "stdout",
     "output_type": "stream",
     "text": [
      "internet_df has 4495 rows and 4 columns.\n"
     ]
    }
   ],
   "source": [
    "print('internet_df has', internet_df.shape[0], 'rows and', internet_df.shape[1], 'columns.')"
   ]
  },
  {
   "cell_type": "markdown",
   "id": "5ded1ea6",
   "metadata": {},
   "source": [
    "<hr>\n",
    "\n",
    "##### 6.\tTake a look at the datatypes for the columns in each DataFrame."
   ]
  },
  {
   "cell_type": "code",
   "execution_count": 9,
   "id": "91032428",
   "metadata": {},
   "outputs": [
    {
     "data": {
      "text/plain": [
       "Country or Area     object\n",
       "Year                 int64\n",
       "Value              float64\n",
       "Value Footnotes    float64\n",
       "dtype: object"
      ]
     },
     "execution_count": 9,
     "metadata": {},
     "output_type": "execute_result"
    }
   ],
   "source": [
    "gdp_df.dtypes"
   ]
  },
  {
   "cell_type": "code",
   "execution_count": 10,
   "id": "e494ec14",
   "metadata": {},
   "outputs": [
    {
     "data": {
      "text/plain": [
       "Country or Area     object\n",
       "Year                 int64\n",
       "Value              float64\n",
       "Value Footnotes    float64\n",
       "dtype: object"
      ]
     },
     "execution_count": 10,
     "metadata": {},
     "output_type": "execute_result"
    }
   ],
   "source": [
    "internet_df.dtypes"
   ]
  },
  {
   "cell_type": "markdown",
   "id": "2a3e5137",
   "metadata": {},
   "source": [
    "##### 99. Take a look at the last 10 rows of each DataFrame in turn."
   ]
  },
  {
   "cell_type": "code",
   "execution_count": 11,
   "id": "d34914c7",
   "metadata": {},
   "outputs": [
    {
     "data": {
      "text/html": [
       "<div>\n",
       "<style scoped>\n",
       "    .dataframe tbody tr th:only-of-type {\n",
       "        vertical-align: middle;\n",
       "    }\n",
       "\n",
       "    .dataframe tbody tr th {\n",
       "        vertical-align: top;\n",
       "    }\n",
       "\n",
       "    .dataframe thead th {\n",
       "        text-align: right;\n",
       "    }\n",
       "</style>\n",
       "<table border=\"1\" class=\"dataframe\">\n",
       "  <thead>\n",
       "    <tr style=\"text-align: right;\">\n",
       "      <th></th>\n",
       "      <th>Country or Area</th>\n",
       "      <th>Year</th>\n",
       "      <th>Value</th>\n",
       "      <th>Value Footnotes</th>\n",
       "    </tr>\n",
       "  </thead>\n",
       "  <tbody>\n",
       "    <tr>\n",
       "      <th>7166</th>\n",
       "      <td>Zimbabwe</td>\n",
       "      <td>1999</td>\n",
       "      <td>2872.714795</td>\n",
       "      <td>NaN</td>\n",
       "    </tr>\n",
       "    <tr>\n",
       "      <th>7167</th>\n",
       "      <td>Zimbabwe</td>\n",
       "      <td>1998</td>\n",
       "      <td>2915.052992</td>\n",
       "      <td>NaN</td>\n",
       "    </tr>\n",
       "    <tr>\n",
       "      <th>7168</th>\n",
       "      <td>Zimbabwe</td>\n",
       "      <td>1997</td>\n",
       "      <td>2856.118188</td>\n",
       "      <td>NaN</td>\n",
       "    </tr>\n",
       "    <tr>\n",
       "      <th>7169</th>\n",
       "      <td>Zimbabwe</td>\n",
       "      <td>1996</td>\n",
       "      <td>2808.558556</td>\n",
       "      <td>NaN</td>\n",
       "    </tr>\n",
       "    <tr>\n",
       "      <th>7170</th>\n",
       "      <td>Zimbabwe</td>\n",
       "      <td>1995</td>\n",
       "      <td>2573.993785</td>\n",
       "      <td>NaN</td>\n",
       "    </tr>\n",
       "    <tr>\n",
       "      <th>7171</th>\n",
       "      <td>Zimbabwe</td>\n",
       "      <td>1994</td>\n",
       "      <td>2603.927369</td>\n",
       "      <td>NaN</td>\n",
       "    </tr>\n",
       "    <tr>\n",
       "      <th>7172</th>\n",
       "      <td>Zimbabwe</td>\n",
       "      <td>1993</td>\n",
       "      <td>2420.092791</td>\n",
       "      <td>NaN</td>\n",
       "    </tr>\n",
       "    <tr>\n",
       "      <th>7173</th>\n",
       "      <td>Zimbabwe</td>\n",
       "      <td>1992</td>\n",
       "      <td>2437.152908</td>\n",
       "      <td>NaN</td>\n",
       "    </tr>\n",
       "    <tr>\n",
       "      <th>7174</th>\n",
       "      <td>Zimbabwe</td>\n",
       "      <td>1991</td>\n",
       "      <td>2733.696626</td>\n",
       "      <td>NaN</td>\n",
       "    </tr>\n",
       "    <tr>\n",
       "      <th>7175</th>\n",
       "      <td>Zimbabwe</td>\n",
       "      <td>1990</td>\n",
       "      <td>2652.129209</td>\n",
       "      <td>NaN</td>\n",
       "    </tr>\n",
       "  </tbody>\n",
       "</table>\n",
       "</div>"
      ],
      "text/plain": [
       "     Country or Area  Year        Value  Value Footnotes\n",
       "7166        Zimbabwe  1999  2872.714795              NaN\n",
       "7167        Zimbabwe  1998  2915.052992              NaN\n",
       "7168        Zimbabwe  1997  2856.118188              NaN\n",
       "7169        Zimbabwe  1996  2808.558556              NaN\n",
       "7170        Zimbabwe  1995  2573.993785              NaN\n",
       "7171        Zimbabwe  1994  2603.927369              NaN\n",
       "7172        Zimbabwe  1993  2420.092791              NaN\n",
       "7173        Zimbabwe  1992  2437.152908              NaN\n",
       "7174        Zimbabwe  1991  2733.696626              NaN\n",
       "7175        Zimbabwe  1990  2652.129209              NaN"
      ]
     },
     "execution_count": 11,
     "metadata": {},
     "output_type": "execute_result"
    }
   ],
   "source": [
    "gdp_df.tail(10)"
   ]
  },
  {
   "cell_type": "code",
   "execution_count": 12,
   "id": "e5ea3e5a",
   "metadata": {},
   "outputs": [
    {
     "data": {
      "text/html": [
       "<div>\n",
       "<style scoped>\n",
       "    .dataframe tbody tr th:only-of-type {\n",
       "        vertical-align: middle;\n",
       "    }\n",
       "\n",
       "    .dataframe tbody tr th {\n",
       "        vertical-align: top;\n",
       "    }\n",
       "\n",
       "    .dataframe thead th {\n",
       "        text-align: right;\n",
       "    }\n",
       "</style>\n",
       "<table border=\"1\" class=\"dataframe\">\n",
       "  <thead>\n",
       "    <tr style=\"text-align: right;\">\n",
       "      <th></th>\n",
       "      <th>Country or Area</th>\n",
       "      <th>Year</th>\n",
       "      <th>Value</th>\n",
       "      <th>Value Footnotes</th>\n",
       "    </tr>\n",
       "  </thead>\n",
       "  <tbody>\n",
       "    <tr>\n",
       "      <th>4485</th>\n",
       "      <td>Zimbabwe</td>\n",
       "      <td>2002</td>\n",
       "      <td>3.994356</td>\n",
       "      <td>NaN</td>\n",
       "    </tr>\n",
       "    <tr>\n",
       "      <th>4486</th>\n",
       "      <td>Zimbabwe</td>\n",
       "      <td>2001</td>\n",
       "      <td>0.799846</td>\n",
       "      <td>NaN</td>\n",
       "    </tr>\n",
       "    <tr>\n",
       "      <th>4487</th>\n",
       "      <td>Zimbabwe</td>\n",
       "      <td>2000</td>\n",
       "      <td>0.401434</td>\n",
       "      <td>NaN</td>\n",
       "    </tr>\n",
       "    <tr>\n",
       "      <th>4488</th>\n",
       "      <td>Zimbabwe</td>\n",
       "      <td>1999</td>\n",
       "      <td>0.161676</td>\n",
       "      <td>NaN</td>\n",
       "    </tr>\n",
       "    <tr>\n",
       "      <th>4489</th>\n",
       "      <td>Zimbabwe</td>\n",
       "      <td>1998</td>\n",
       "      <td>0.081648</td>\n",
       "      <td>NaN</td>\n",
       "    </tr>\n",
       "    <tr>\n",
       "      <th>4490</th>\n",
       "      <td>Zimbabwe</td>\n",
       "      <td>1997</td>\n",
       "      <td>0.033080</td>\n",
       "      <td>NaN</td>\n",
       "    </tr>\n",
       "    <tr>\n",
       "      <th>4491</th>\n",
       "      <td>Zimbabwe</td>\n",
       "      <td>1996</td>\n",
       "      <td>0.016790</td>\n",
       "      <td>NaN</td>\n",
       "    </tr>\n",
       "    <tr>\n",
       "      <th>4492</th>\n",
       "      <td>Zimbabwe</td>\n",
       "      <td>1995</td>\n",
       "      <td>0.007684</td>\n",
       "      <td>NaN</td>\n",
       "    </tr>\n",
       "    <tr>\n",
       "      <th>4493</th>\n",
       "      <td>Zimbabwe</td>\n",
       "      <td>1994</td>\n",
       "      <td>0.001739</td>\n",
       "      <td>NaN</td>\n",
       "    </tr>\n",
       "    <tr>\n",
       "      <th>4494</th>\n",
       "      <td>Zimbabwe</td>\n",
       "      <td>1990</td>\n",
       "      <td>0.000000</td>\n",
       "      <td>NaN</td>\n",
       "    </tr>\n",
       "  </tbody>\n",
       "</table>\n",
       "</div>"
      ],
      "text/plain": [
       "     Country or Area  Year     Value  Value Footnotes\n",
       "4485        Zimbabwe  2002  3.994356              NaN\n",
       "4486        Zimbabwe  2001  0.799846              NaN\n",
       "4487        Zimbabwe  2000  0.401434              NaN\n",
       "4488        Zimbabwe  1999  0.161676              NaN\n",
       "4489        Zimbabwe  1998  0.081648              NaN\n",
       "4490        Zimbabwe  1997  0.033080              NaN\n",
       "4491        Zimbabwe  1996  0.016790              NaN\n",
       "4492        Zimbabwe  1995  0.007684              NaN\n",
       "4493        Zimbabwe  1994  0.001739              NaN\n",
       "4494        Zimbabwe  1990  0.000000              NaN"
      ]
     },
     "execution_count": 12,
     "metadata": {},
     "output_type": "execute_result"
    }
   ],
   "source": [
    "internet_df.tail(10)"
   ]
  },
  {
   "cell_type": "markdown",
   "id": "e73d9839",
   "metadata": {},
   "source": [
    "<hr>\n",
    "\n",
    "##### 7. Drop the `value footnotes` column from both DataFrames. Check that this worked as expected."
   ]
  },
  {
   "cell_type": "code",
   "execution_count": 13,
   "id": "0f8db160",
   "metadata": {
    "scrolled": true
   },
   "outputs": [],
   "source": [
    "gdp_df = gdp_df.drop(columns = ['Value Footnotes'])\n",
    "internet_df = internet_df.drop(columns = ['Value Footnotes'])"
   ]
  },
  {
   "cell_type": "code",
   "execution_count": 14,
   "id": "2dcbc951",
   "metadata": {},
   "outputs": [
    {
     "name": "stdout",
     "output_type": "stream",
     "text": [
      "\t\tgdp_df\n",
      "  Country or Area  Year        Value\n",
      "0     Afghanistan  2020  1970.560169\n",
      "1     Afghanistan  2019  2065.036235\n",
      "2     Afghanistan  2018  2033.804389\n",
      "3     Afghanistan  2017  2058.400221\n",
      "4     Afghanistan  2016  2057.067978\n",
      "\n",
      "======================================\n",
      "\n",
      "\t\tinternet_df\n",
      "  Country or Area  Year     Value\n",
      "0     Afghanistan  2014  6.390000\n",
      "1     Afghanistan  2013  5.900000\n",
      "2     Afghanistan  2012  5.454545\n",
      "3     Afghanistan  2011  5.000000\n",
      "4     Afghanistan  2010  4.000000\n"
     ]
    }
   ],
   "source": [
    "print('\\t\\tgdp_df')\n",
    "print(gdp_df.head())\n",
    "print ('\\n======================================\\n')\n",
    "print('\\t\\tinternet_df')\n",
    "print(internet_df.head())"
   ]
  },
  {
   "cell_type": "markdown",
   "id": "f397ecb0",
   "metadata": {},
   "source": [
    "<hr>\n",
    "\n",
    "##### 8.\tChange the columns for the GDP Per Capita DataFrame to ‘Country’, ‘Year’, and ‘GDP_Per_Capita’.\n",
    "##### 9.\tChange the columns for the Internet Users DataFrame to ‘Country’, ‘Year’, and ‘Internet_Users_Pct’."
   ]
  },
  {
   "cell_type": "code",
   "execution_count": 15,
   "id": "ba8f40f0",
   "metadata": {},
   "outputs": [],
   "source": [
    "gdp_df = gdp_df.rename(columns = {'Country or Area': 'Country', 'Value': 'GDP_Per_Capita'})\n",
    "internet_df = internet_df.rename(columns = {'Country or Area': 'Country', 'Value': 'Internet_Users_Pct'})"
   ]
  },
  {
   "cell_type": "code",
   "execution_count": 16,
   "id": "958e6d76",
   "metadata": {},
   "outputs": [
    {
     "name": "stdout",
     "output_type": "stream",
     "text": [
      "\t\tgdp_df\n",
      "       Country  Year  GDP_Per_Capita\n",
      "0  Afghanistan  2020     1970.560169\n",
      "1  Afghanistan  2019     2065.036235\n",
      "2  Afghanistan  2018     2033.804389\n",
      "3  Afghanistan  2017     2058.400221\n",
      "4  Afghanistan  2016     2057.067978\n",
      "\n",
      "======================================\n",
      "\n",
      "\t\tinternet_df\n",
      "       Country  Year  Internet_Users_Pct\n",
      "0  Afghanistan  2014            6.390000\n",
      "1  Afghanistan  2013            5.900000\n",
      "2  Afghanistan  2012            5.454545\n",
      "3  Afghanistan  2011            5.000000\n",
      "4  Afghanistan  2010            4.000000\n"
     ]
    }
   ],
   "source": [
    "print('\\t\\tgdp_df')\n",
    "print(gdp_df.head())\n",
    "print ('\\n======================================\\n')\n",
    "print('\\t\\tinternet_df')\n",
    "print(internet_df.head())"
   ]
  },
  {
   "cell_type": "markdown",
   "id": "12e60e95",
   "metadata": {},
   "source": [
    "<hr>\n",
    "\n",
    "##### 10.\tMerge the two DataFrames to one. Merge **all rows** from each of the two DataFrames. Call the new DataFrame `gdp_and_internet_use`."
   ]
  },
  {
   "cell_type": "code",
   "execution_count": 17,
   "id": "18a922a5",
   "metadata": {},
   "outputs": [],
   "source": [
    "# Perform an outer merge of the two dataframes.\n",
    "gdp_and_internet_use = gdp_df.merge(internet_df, on=['Country', 'Year'], how='outer')\n",
    "\n",
    "# Sort the merged dataframe\n",
    "gdp_and_internet_use = gdp_and_internet_use.sort_values(by = ['Country', 'Year'])\n",
    "\n",
    "# Round GDP_Per_Capita and Internet_Users_Pct to 2 decimals\n",
    "gdp_and_internet_use['GDP_Per_Capita'] = round(gdp_and_internet_use['GDP_Per_Capita'], 2)\n",
    "gdp_and_internet_use['Internet_Users_Pct'] = round(gdp_and_internet_use['Internet_Users_Pct'], 3)"
   ]
  },
  {
   "cell_type": "code",
   "execution_count": 18,
   "id": "3caeb204",
   "metadata": {
    "scrolled": true
   },
   "outputs": [
    {
     "data": {
      "text/html": [
       "<div>\n",
       "<style scoped>\n",
       "    .dataframe tbody tr th:only-of-type {\n",
       "        vertical-align: middle;\n",
       "    }\n",
       "\n",
       "    .dataframe tbody tr th {\n",
       "        vertical-align: top;\n",
       "    }\n",
       "\n",
       "    .dataframe thead th {\n",
       "        text-align: right;\n",
       "    }\n",
       "</style>\n",
       "<table border=\"1\" class=\"dataframe\">\n",
       "  <thead>\n",
       "    <tr style=\"text-align: right;\">\n",
       "      <th></th>\n",
       "      <th>Country</th>\n",
       "      <th>Year</th>\n",
       "      <th>GDP_Per_Capita</th>\n",
       "      <th>Internet_Users_Pct</th>\n",
       "    </tr>\n",
       "  </thead>\n",
       "  <tbody>\n",
       "    <tr>\n",
       "      <th>7177</th>\n",
       "      <td>Afghanistan</td>\n",
       "      <td>1990</td>\n",
       "      <td>NaN</td>\n",
       "      <td>0.000</td>\n",
       "    </tr>\n",
       "    <tr>\n",
       "      <th>7176</th>\n",
       "      <td>Afghanistan</td>\n",
       "      <td>2001</td>\n",
       "      <td>NaN</td>\n",
       "      <td>0.005</td>\n",
       "    </tr>\n",
       "    <tr>\n",
       "      <th>18</th>\n",
       "      <td>Afghanistan</td>\n",
       "      <td>2002</td>\n",
       "      <td>1189.78</td>\n",
       "      <td>0.005</td>\n",
       "    </tr>\n",
       "    <tr>\n",
       "      <th>17</th>\n",
       "      <td>Afghanistan</td>\n",
       "      <td>2003</td>\n",
       "      <td>1235.81</td>\n",
       "      <td>0.088</td>\n",
       "    </tr>\n",
       "    <tr>\n",
       "      <th>16</th>\n",
       "      <td>Afghanistan</td>\n",
       "      <td>2004</td>\n",
       "      <td>1200.28</td>\n",
       "      <td>0.106</td>\n",
       "    </tr>\n",
       "    <tr>\n",
       "      <th>...</th>\n",
       "      <td>...</td>\n",
       "      <td>...</td>\n",
       "      <td>...</td>\n",
       "      <td>...</td>\n",
       "    </tr>\n",
       "    <tr>\n",
       "      <th>7149</th>\n",
       "      <td>Zimbabwe</td>\n",
       "      <td>2016</td>\n",
       "      <td>2341.30</td>\n",
       "      <td>NaN</td>\n",
       "    </tr>\n",
       "    <tr>\n",
       "      <th>7148</th>\n",
       "      <td>Zimbabwe</td>\n",
       "      <td>2017</td>\n",
       "      <td>2416.05</td>\n",
       "      <td>NaN</td>\n",
       "    </tr>\n",
       "    <tr>\n",
       "      <th>7147</th>\n",
       "      <td>Zimbabwe</td>\n",
       "      <td>2018</td>\n",
       "      <td>2497.14</td>\n",
       "      <td>NaN</td>\n",
       "    </tr>\n",
       "    <tr>\n",
       "      <th>7146</th>\n",
       "      <td>Zimbabwe</td>\n",
       "      <td>2019</td>\n",
       "      <td>2310.63</td>\n",
       "      <td>NaN</td>\n",
       "    </tr>\n",
       "    <tr>\n",
       "      <th>7145</th>\n",
       "      <td>Zimbabwe</td>\n",
       "      <td>2020</td>\n",
       "      <td>2134.56</td>\n",
       "      <td>NaN</td>\n",
       "    </tr>\n",
       "  </tbody>\n",
       "</table>\n",
       "<p>8256 rows × 4 columns</p>\n",
       "</div>"
      ],
      "text/plain": [
       "          Country  Year  GDP_Per_Capita  Internet_Users_Pct\n",
       "7177  Afghanistan  1990             NaN               0.000\n",
       "7176  Afghanistan  2001             NaN               0.005\n",
       "18    Afghanistan  2002         1189.78               0.005\n",
       "17    Afghanistan  2003         1235.81               0.088\n",
       "16    Afghanistan  2004         1200.28               0.106\n",
       "...           ...   ...             ...                 ...\n",
       "7149     Zimbabwe  2016         2341.30                 NaN\n",
       "7148     Zimbabwe  2017         2416.05                 NaN\n",
       "7147     Zimbabwe  2018         2497.14                 NaN\n",
       "7146     Zimbabwe  2019         2310.63                 NaN\n",
       "7145     Zimbabwe  2020         2134.56                 NaN\n",
       "\n",
       "[8256 rows x 4 columns]"
      ]
     },
     "execution_count": 18,
     "metadata": {},
     "output_type": "execute_result"
    }
   ],
   "source": [
    "gdp_and_internet_use"
   ]
  },
  {
   "cell_type": "markdown",
   "id": "3aa34697",
   "metadata": {},
   "source": [
    "<hr>\n",
    "\n",
    "##### 11.\tLook at the first five rows of your new DataFrame to confirm it merged correctly."
   ]
  },
  {
   "cell_type": "code",
   "execution_count": 19,
   "id": "b04c8faf",
   "metadata": {
    "scrolled": false
   },
   "outputs": [
    {
     "data": {
      "text/html": [
       "<div>\n",
       "<style scoped>\n",
       "    .dataframe tbody tr th:only-of-type {\n",
       "        vertical-align: middle;\n",
       "    }\n",
       "\n",
       "    .dataframe tbody tr th {\n",
       "        vertical-align: top;\n",
       "    }\n",
       "\n",
       "    .dataframe thead th {\n",
       "        text-align: right;\n",
       "    }\n",
       "</style>\n",
       "<table border=\"1\" class=\"dataframe\">\n",
       "  <thead>\n",
       "    <tr style=\"text-align: right;\">\n",
       "      <th></th>\n",
       "      <th>Country</th>\n",
       "      <th>Year</th>\n",
       "      <th>GDP_Per_Capita</th>\n",
       "      <th>Internet_Users_Pct</th>\n",
       "    </tr>\n",
       "  </thead>\n",
       "  <tbody>\n",
       "    <tr>\n",
       "      <th>7177</th>\n",
       "      <td>Afghanistan</td>\n",
       "      <td>1990</td>\n",
       "      <td>NaN</td>\n",
       "      <td>0.000</td>\n",
       "    </tr>\n",
       "    <tr>\n",
       "      <th>7176</th>\n",
       "      <td>Afghanistan</td>\n",
       "      <td>2001</td>\n",
       "      <td>NaN</td>\n",
       "      <td>0.005</td>\n",
       "    </tr>\n",
       "    <tr>\n",
       "      <th>18</th>\n",
       "      <td>Afghanistan</td>\n",
       "      <td>2002</td>\n",
       "      <td>1189.78</td>\n",
       "      <td>0.005</td>\n",
       "    </tr>\n",
       "    <tr>\n",
       "      <th>17</th>\n",
       "      <td>Afghanistan</td>\n",
       "      <td>2003</td>\n",
       "      <td>1235.81</td>\n",
       "      <td>0.088</td>\n",
       "    </tr>\n",
       "    <tr>\n",
       "      <th>16</th>\n",
       "      <td>Afghanistan</td>\n",
       "      <td>2004</td>\n",
       "      <td>1200.28</td>\n",
       "      <td>0.106</td>\n",
       "    </tr>\n",
       "  </tbody>\n",
       "</table>\n",
       "</div>"
      ],
      "text/plain": [
       "          Country  Year  GDP_Per_Capita  Internet_Users_Pct\n",
       "7177  Afghanistan  1990             NaN               0.000\n",
       "7176  Afghanistan  2001             NaN               0.005\n",
       "18    Afghanistan  2002         1189.78               0.005\n",
       "17    Afghanistan  2003         1235.81               0.088\n",
       "16    Afghanistan  2004         1200.28               0.106"
      ]
     },
     "execution_count": 19,
     "metadata": {},
     "output_type": "execute_result"
    }
   ],
   "source": [
    "gdp_and_internet_use.head(5)"
   ]
  },
  {
   "cell_type": "markdown",
   "id": "23a2e9b7",
   "metadata": {},
   "source": [
    "<hr>\n",
    "\n",
    "##### 12.\tLook at the last five rows to make sure the data is clean and as expected."
   ]
  },
  {
   "cell_type": "code",
   "execution_count": 20,
   "id": "11cccc8f",
   "metadata": {
    "scrolled": true
   },
   "outputs": [
    {
     "data": {
      "text/html": [
       "<div>\n",
       "<style scoped>\n",
       "    .dataframe tbody tr th:only-of-type {\n",
       "        vertical-align: middle;\n",
       "    }\n",
       "\n",
       "    .dataframe tbody tr th {\n",
       "        vertical-align: top;\n",
       "    }\n",
       "\n",
       "    .dataframe thead th {\n",
       "        text-align: right;\n",
       "    }\n",
       "</style>\n",
       "<table border=\"1\" class=\"dataframe\">\n",
       "  <thead>\n",
       "    <tr style=\"text-align: right;\">\n",
       "      <th></th>\n",
       "      <th>Country</th>\n",
       "      <th>Year</th>\n",
       "      <th>GDP_Per_Capita</th>\n",
       "      <th>Internet_Users_Pct</th>\n",
       "    </tr>\n",
       "  </thead>\n",
       "  <tbody>\n",
       "    <tr>\n",
       "      <th>7149</th>\n",
       "      <td>Zimbabwe</td>\n",
       "      <td>2016</td>\n",
       "      <td>2341.30</td>\n",
       "      <td>NaN</td>\n",
       "    </tr>\n",
       "    <tr>\n",
       "      <th>7148</th>\n",
       "      <td>Zimbabwe</td>\n",
       "      <td>2017</td>\n",
       "      <td>2416.05</td>\n",
       "      <td>NaN</td>\n",
       "    </tr>\n",
       "    <tr>\n",
       "      <th>7147</th>\n",
       "      <td>Zimbabwe</td>\n",
       "      <td>2018</td>\n",
       "      <td>2497.14</td>\n",
       "      <td>NaN</td>\n",
       "    </tr>\n",
       "    <tr>\n",
       "      <th>7146</th>\n",
       "      <td>Zimbabwe</td>\n",
       "      <td>2019</td>\n",
       "      <td>2310.63</td>\n",
       "      <td>NaN</td>\n",
       "    </tr>\n",
       "    <tr>\n",
       "      <th>7145</th>\n",
       "      <td>Zimbabwe</td>\n",
       "      <td>2020</td>\n",
       "      <td>2134.56</td>\n",
       "      <td>NaN</td>\n",
       "    </tr>\n",
       "  </tbody>\n",
       "</table>\n",
       "</div>"
      ],
      "text/plain": [
       "       Country  Year  GDP_Per_Capita  Internet_Users_Pct\n",
       "7149  Zimbabwe  2016         2341.30                 NaN\n",
       "7148  Zimbabwe  2017         2416.05                 NaN\n",
       "7147  Zimbabwe  2018         2497.14                 NaN\n",
       "7146  Zimbabwe  2019         2310.63                 NaN\n",
       "7145  Zimbabwe  2020         2134.56                 NaN"
      ]
     },
     "execution_count": 20,
     "metadata": {},
     "output_type": "execute_result"
    }
   ],
   "source": [
    "gdp_and_internet_use.tail(5)"
   ]
  },
  {
   "cell_type": "markdown",
   "id": "81b63f21",
   "metadata": {},
   "source": [
    "<hr>\n",
    "\n",
    "##### 13.\tSubset the combined DataFrame to keep only the data for 2004, 2009, and 2014. Check that this happened correctly."
   ]
  },
  {
   "cell_type": "code",
   "execution_count": 21,
   "id": "fa105f35",
   "metadata": {},
   "outputs": [],
   "source": [
    "gdp_and_internet_subset = gdp_and_internet_use.loc[gdp_and_internet_use['Year'].isin([2004, 2009, 2014])]"
   ]
  },
  {
   "cell_type": "code",
   "execution_count": 22,
   "id": "65622325",
   "metadata": {
    "scrolled": true
   },
   "outputs": [
    {
     "data": {
      "text/html": [
       "<div>\n",
       "<style scoped>\n",
       "    .dataframe tbody tr th:only-of-type {\n",
       "        vertical-align: middle;\n",
       "    }\n",
       "\n",
       "    .dataframe tbody tr th {\n",
       "        vertical-align: top;\n",
       "    }\n",
       "\n",
       "    .dataframe thead th {\n",
       "        text-align: right;\n",
       "    }\n",
       "</style>\n",
       "<table border=\"1\" class=\"dataframe\">\n",
       "  <thead>\n",
       "    <tr style=\"text-align: right;\">\n",
       "      <th></th>\n",
       "      <th>Country</th>\n",
       "      <th>Year</th>\n",
       "      <th>GDP_Per_Capita</th>\n",
       "      <th>Internet_Users_Pct</th>\n",
       "    </tr>\n",
       "  </thead>\n",
       "  <tbody>\n",
       "    <tr>\n",
       "      <th>16</th>\n",
       "      <td>Afghanistan</td>\n",
       "      <td>2004</td>\n",
       "      <td>1200.28</td>\n",
       "      <td>0.106</td>\n",
       "    </tr>\n",
       "    <tr>\n",
       "      <th>11</th>\n",
       "      <td>Afghanistan</td>\n",
       "      <td>2009</td>\n",
       "      <td>1758.90</td>\n",
       "      <td>3.550</td>\n",
       "    </tr>\n",
       "    <tr>\n",
       "      <th>6</th>\n",
       "      <td>Afghanistan</td>\n",
       "      <td>2014</td>\n",
       "      <td>2102.38</td>\n",
       "      <td>6.390</td>\n",
       "    </tr>\n",
       "    <tr>\n",
       "      <th>35</th>\n",
       "      <td>Africa Eastern and Southern</td>\n",
       "      <td>2004</td>\n",
       "      <td>3093.22</td>\n",
       "      <td>NaN</td>\n",
       "    </tr>\n",
       "    <tr>\n",
       "      <th>30</th>\n",
       "      <td>Africa Eastern and Southern</td>\n",
       "      <td>2009</td>\n",
       "      <td>3461.68</td>\n",
       "      <td>NaN</td>\n",
       "    </tr>\n",
       "    <tr>\n",
       "      <th>...</th>\n",
       "      <td>...</td>\n",
       "      <td>...</td>\n",
       "      <td>...</td>\n",
       "      <td>...</td>\n",
       "    </tr>\n",
       "    <tr>\n",
       "      <th>7125</th>\n",
       "      <td>Zambia</td>\n",
       "      <td>2009</td>\n",
       "      <td>2917.52</td>\n",
       "      <td>6.310</td>\n",
       "    </tr>\n",
       "    <tr>\n",
       "      <th>7120</th>\n",
       "      <td>Zambia</td>\n",
       "      <td>2014</td>\n",
       "      <td>3450.04</td>\n",
       "      <td>17.340</td>\n",
       "    </tr>\n",
       "    <tr>\n",
       "      <th>7161</th>\n",
       "      <td>Zimbabwe</td>\n",
       "      <td>2004</td>\n",
       "      <td>1979.20</td>\n",
       "      <td>6.564</td>\n",
       "    </tr>\n",
       "    <tr>\n",
       "      <th>7156</th>\n",
       "      <td>Zimbabwe</td>\n",
       "      <td>2009</td>\n",
       "      <td>1536.03</td>\n",
       "      <td>11.360</td>\n",
       "    </tr>\n",
       "    <tr>\n",
       "      <th>7151</th>\n",
       "      <td>Zimbabwe</td>\n",
       "      <td>2014</td>\n",
       "      <td>2357.65</td>\n",
       "      <td>19.890</td>\n",
       "    </tr>\n",
       "  </tbody>\n",
       "</table>\n",
       "<p>841 rows × 4 columns</p>\n",
       "</div>"
      ],
      "text/plain": [
       "                          Country  Year  GDP_Per_Capita  Internet_Users_Pct\n",
       "16                    Afghanistan  2004         1200.28               0.106\n",
       "11                    Afghanistan  2009         1758.90               3.550\n",
       "6                     Afghanistan  2014         2102.38               6.390\n",
       "35    Africa Eastern and Southern  2004         3093.22                 NaN\n",
       "30    Africa Eastern and Southern  2009         3461.68                 NaN\n",
       "...                           ...   ...             ...                 ...\n",
       "7125                       Zambia  2009         2917.52               6.310\n",
       "7120                       Zambia  2014         3450.04              17.340\n",
       "7161                     Zimbabwe  2004         1979.20               6.564\n",
       "7156                     Zimbabwe  2009         1536.03              11.360\n",
       "7151                     Zimbabwe  2014         2357.65              19.890\n",
       "\n",
       "[841 rows x 4 columns]"
      ]
     },
     "execution_count": 22,
     "metadata": {},
     "output_type": "execute_result"
    }
   ],
   "source": [
    "cnt = len(gdp_and_internet_subset.loc[gdp_and_internet_subset['Year'].isin([2004, 2009, 2014])])\n",
    "assert cnt == gdp_and_internet_subset.shape[0]\n",
    "gdp_and_internet_subset"
   ]
  },
  {
   "cell_type": "markdown",
   "id": "5b8b1e47",
   "metadata": {},
   "source": [
    "<hr>\n",
    "\n",
    "##### 14.\tCreate three new DataFrames, one for 2004, one for 2009, and one for 2014. Give them meaningful names that aren't too long."
   ]
  },
  {
   "cell_type": "code",
   "execution_count": 23,
   "id": "916f16ed",
   "metadata": {},
   "outputs": [],
   "source": [
    "gdp_internet_2004 = gdp_and_internet_subset.loc[(gdp_and_internet_subset['Year'] == 2004)]\n",
    "gdp_internet_2009 = gdp_and_internet_subset.loc[(gdp_and_internet_subset['Year'] == 2009)]\n",
    "gdp_internet_2014 = gdp_and_internet_subset.loc[(gdp_and_internet_subset['Year'] == 2014)]"
   ]
  },
  {
   "cell_type": "code",
   "execution_count": 24,
   "id": "24583f94",
   "metadata": {},
   "outputs": [
    {
     "data": {
      "text/html": [
       "<div>\n",
       "<style scoped>\n",
       "    .dataframe tbody tr th:only-of-type {\n",
       "        vertical-align: middle;\n",
       "    }\n",
       "\n",
       "    .dataframe tbody tr th {\n",
       "        vertical-align: top;\n",
       "    }\n",
       "\n",
       "    .dataframe thead th {\n",
       "        text-align: right;\n",
       "    }\n",
       "</style>\n",
       "<table border=\"1\" class=\"dataframe\">\n",
       "  <thead>\n",
       "    <tr style=\"text-align: right;\">\n",
       "      <th></th>\n",
       "      <th>Country</th>\n",
       "      <th>Year</th>\n",
       "      <th>GDP_Per_Capita</th>\n",
       "      <th>Internet_Users_Pct</th>\n",
       "    </tr>\n",
       "  </thead>\n",
       "  <tbody>\n",
       "    <tr>\n",
       "      <th>16</th>\n",
       "      <td>Afghanistan</td>\n",
       "      <td>2004</td>\n",
       "      <td>1200.28</td>\n",
       "      <td>0.106</td>\n",
       "    </tr>\n",
       "    <tr>\n",
       "      <th>35</th>\n",
       "      <td>Africa Eastern and Southern</td>\n",
       "      <td>2004</td>\n",
       "      <td>3093.22</td>\n",
       "      <td>NaN</td>\n",
       "    </tr>\n",
       "    <tr>\n",
       "      <th>66</th>\n",
       "      <td>Africa Western and Central</td>\n",
       "      <td>2004</td>\n",
       "      <td>3165.09</td>\n",
       "      <td>NaN</td>\n",
       "    </tr>\n",
       "    <tr>\n",
       "      <th>97</th>\n",
       "      <td>Albania</td>\n",
       "      <td>2004</td>\n",
       "      <td>7580.14</td>\n",
       "      <td>2.420</td>\n",
       "    </tr>\n",
       "    <tr>\n",
       "      <th>128</th>\n",
       "      <td>Algeria</td>\n",
       "      <td>2004</td>\n",
       "      <td>10058.43</td>\n",
       "      <td>4.634</td>\n",
       "    </tr>\n",
       "    <tr>\n",
       "      <th>...</th>\n",
       "      <td>...</td>\n",
       "      <td>...</td>\n",
       "      <td>...</td>\n",
       "      <td>...</td>\n",
       "    </tr>\n",
       "    <tr>\n",
       "      <th>7072</th>\n",
       "      <td>West Bank and Gaza</td>\n",
       "      <td>2004</td>\n",
       "      <td>4485.53</td>\n",
       "      <td>NaN</td>\n",
       "    </tr>\n",
       "    <tr>\n",
       "      <th>7099</th>\n",
       "      <td>World</td>\n",
       "      <td>2004</td>\n",
       "      <td>12130.60</td>\n",
       "      <td>NaN</td>\n",
       "    </tr>\n",
       "    <tr>\n",
       "      <th>8246</th>\n",
       "      <td>Yemen</td>\n",
       "      <td>2004</td>\n",
       "      <td>NaN</td>\n",
       "      <td>0.881</td>\n",
       "    </tr>\n",
       "    <tr>\n",
       "      <th>7130</th>\n",
       "      <td>Zambia</td>\n",
       "      <td>2004</td>\n",
       "      <td>2261.77</td>\n",
       "      <td>2.014</td>\n",
       "    </tr>\n",
       "    <tr>\n",
       "      <th>7161</th>\n",
       "      <td>Zimbabwe</td>\n",
       "      <td>2004</td>\n",
       "      <td>1979.20</td>\n",
       "      <td>6.564</td>\n",
       "    </tr>\n",
       "  </tbody>\n",
       "</table>\n",
       "<p>279 rows × 4 columns</p>\n",
       "</div>"
      ],
      "text/plain": [
       "                          Country  Year  GDP_Per_Capita  Internet_Users_Pct\n",
       "16                    Afghanistan  2004         1200.28               0.106\n",
       "35    Africa Eastern and Southern  2004         3093.22                 NaN\n",
       "66     Africa Western and Central  2004         3165.09                 NaN\n",
       "97                        Albania  2004         7580.14               2.420\n",
       "128                       Algeria  2004        10058.43               4.634\n",
       "...                           ...   ...             ...                 ...\n",
       "7072           West Bank and Gaza  2004         4485.53                 NaN\n",
       "7099                        World  2004        12130.60                 NaN\n",
       "8246                        Yemen  2004             NaN               0.881\n",
       "7130                       Zambia  2004         2261.77               2.014\n",
       "7161                     Zimbabwe  2004         1979.20               6.564\n",
       "\n",
       "[279 rows x 4 columns]"
      ]
     },
     "execution_count": 24,
     "metadata": {},
     "output_type": "execute_result"
    }
   ],
   "source": [
    "gdp_internet_2004"
   ]
  },
  {
   "cell_type": "markdown",
   "id": "a57df473",
   "metadata": {},
   "source": [
    "<hr>\n",
    "\n",
    "##### 15.\tWhich country had the highest percentage of internet users in 2014? What was the percentage? (Try typing the first 3 letters of your DataFrame name and hitting the tab key for auto-complete options)."
   ]
  },
  {
   "cell_type": "code",
   "execution_count": 25,
   "id": "1eaa2179",
   "metadata": {
    "scrolled": true
   },
   "outputs": [
    {
     "name": "stdout",
     "output_type": "stream",
     "text": [
      "Iceland had the highest percentage of internet users in 2014 with 98.16 %\n"
     ]
    }
   ],
   "source": [
    "highest_user_2014 = gdp_internet_2014[['Country', 'Year', 'Internet_Users_Pct']].sort_values(by = 'Internet_Users_Pct', ascending = False).head(1)\n",
    "print(highest_user_2014['Country'].item(), 'had the highest percentage of internet users in', highest_user_2014['Year'].item(), 'with', highest_user_2014['Internet_Users_Pct'].item(), '%')"
   ]
  },
  {
   "cell_type": "markdown",
   "id": "28461e6a",
   "metadata": {},
   "source": [
    "Answer: Iceland had the highest percentage of internet users in 2014 with 98.16 %"
   ]
  },
  {
   "cell_type": "markdown",
   "id": "4bae5763",
   "metadata": {},
   "source": [
    "<hr>\n",
    "\n",
    "##### 16.\tWhich country had the lowest percentage of internet users in 2014? What was the percentage?"
   ]
  },
  {
   "cell_type": "code",
   "execution_count": 26,
   "id": "c1c0822a",
   "metadata": {},
   "outputs": [
    {
     "name": "stdout",
     "output_type": "stream",
     "text": [
      "Dem. People's Rep. of Korea had the lowest percentage of internet users in 2014 with 0.0 %\n"
     ]
    }
   ],
   "source": [
    "lowest_user_2014 = gdp_internet_2014[['Country', 'Year', 'Internet_Users_Pct']].sort_values(by = 'Internet_Users_Pct').head(1)\n",
    "print(lowest_user_2014['Country'].item(), 'had the lowest percentage of internet users in', lowest_user_2014['Year'].item(), 'with', lowest_user_2014['Internet_Users_Pct'].item(), '%')"
   ]
  },
  {
   "cell_type": "markdown",
   "id": "abc7a1ca",
   "metadata": {},
   "source": [
    "Answer: Dem. People's Rep. of Korea had the lowest percentage of internet users in 2014 with 0.0 %"
   ]
  },
  {
   "cell_type": "markdown",
   "id": "a4b2b54f",
   "metadata": {},
   "source": [
    "<hr>\n",
    "\n",
    "##### 17.\tRepeat for 2004 and 2009."
   ]
  },
  {
   "cell_type": "code",
   "execution_count": 27,
   "id": "6781852b",
   "metadata": {},
   "outputs": [
    {
     "name": "stdout",
     "output_type": "stream",
     "text": [
      "Sweden had the highest percentage of internet users in 2004 with 83.89 %\n",
      "Iceland had the highest percentage of internet users in 2009 with 93.0 %\n",
      "Dem. People's Rep. of Korea had the lowest percentage of internet users in 2004 with 0.0 %\n",
      "Dem. People's Rep. of Korea had the lowest percentage of internet users in 2009 with 0.0 %\n"
     ]
    }
   ],
   "source": [
    "highest_2004 = gdp_internet_2004[['Country', 'Year', 'Internet_Users_Pct']].sort_values(by = 'Internet_Users_Pct', ascending = False).head(1)\n",
    "lowest_2004 = gdp_internet_2004[['Country', 'Year', 'Internet_Users_Pct']].sort_values(by = 'Internet_Users_Pct').head(1)\n",
    "highest_2009 = gdp_internet_2009[['Country', 'Year', 'Internet_Users_Pct']].sort_values(by = 'Internet_Users_Pct', ascending = False).head(1)\n",
    "lowest_2009 = gdp_internet_2009[['Country', 'Year', 'Internet_Users_Pct']].sort_values(by = 'Internet_Users_Pct').head(1)\n",
    "\n",
    "print(highest_2004['Country'].item(), 'had the highest percentage of internet users in', highest_2004['Year'].item(), 'with', highest_2004['Internet_Users_Pct'].item(), '%')\n",
    "print(highest_2009['Country'].item(), 'had the highest percentage of internet users in', highest_2009['Year'].item(), 'with', highest_2009['Internet_Users_Pct'].item(), '%')\n",
    "print(lowest_2004['Country'].item(), 'had the lowest percentage of internet users in', lowest_2004['Year'].item(), 'with', round(lowest_2004['Internet_Users_Pct'].item(), 2), '%')\n",
    "print(lowest_2009['Country'].item(), 'had the lowest percentage of internet users in', lowest_2009['Year'].item(), 'with', round(lowest_2009['Internet_Users_Pct'].item(), 2), '%')"
   ]
  },
  {
   "cell_type": "markdown",
   "id": "e7c5c57c",
   "metadata": {},
   "source": [
    "Answer: Sweden had the highest percentage of internet users in 2004 with 83.89 %. \n",
    "Iceland had the highest percentage of internet users in 2009 with 93.0 %. \n",
    "Dem. People's Rep. of Korea had the lowest percentage of internet users in 2004 with 0.0 %. \n",
    "Dem. People's Rep. of Korea had the lowest percentage of internet users in 2009 with 0.0 %. "
   ]
  },
  {
   "cell_type": "markdown",
   "id": "822b0b1d",
   "metadata": {},
   "source": [
    "<hr>\n",
    "\n",
    "##### 18.\tWhich country had the highest gdp per capita in 2014? What was the gdp per capita?\n",
    "#####  20.\tWhich country had the lowest gdp per capita in 2014? What was the gdp per capita?"
   ]
  },
  {
   "cell_type": "code",
   "execution_count": 28,
   "id": "83398ae4",
   "metadata": {
    "scrolled": true
   },
   "outputs": [
    {
     "name": "stdout",
     "output_type": "stream",
     "text": [
      "Macao SAR, China had the highest GDP per capita in 2014 with 155201.74\n",
      "Central African Republic had the lowest GDP per capita in 2014 with 822.61\n"
     ]
    }
   ],
   "source": [
    "highest_gdp_2014 = gdp_internet_2014[['Country', 'Year', 'GDP_Per_Capita']].sort_values(by = 'GDP_Per_Capita', ascending = False).head(1)\n",
    "lowest_gdp_2014 = gdp_internet_2014[['Country', 'Year', 'GDP_Per_Capita']].sort_values(by = 'GDP_Per_Capita').head(1)\n",
    "\n",
    "print(highest_gdp_2014['Country'].item(), 'had the highest GDP per capita in', highest_gdp_2014['Year'].item(), 'with', highest_gdp_2014['GDP_Per_Capita'].item())\n",
    "print(lowest_gdp_2014['Country'].item(), 'had the lowest GDP per capita in', lowest_gdp_2014['Year'].item(), 'with', lowest_gdp_2014['GDP_Per_Capita'].item())"
   ]
  },
  {
   "cell_type": "markdown",
   "id": "5a2a89d5",
   "metadata": {},
   "source": [
    "Answer: Macao SAR, China had the highest GDP per capita in 2014 with 155201.74. Central African Republic had the lowest GDP per capita in 2014 with 822.61"
   ]
  },
  {
   "cell_type": "markdown",
   "id": "041068f5",
   "metadata": {},
   "source": [
    "<hr>\n",
    "\n",
    "##### 21.\tCreate some scatterplots:  \n",
    "    a. 2004 Percent Using the Internet vs GDP Per Capita  \n",
    "    b. 2009 Percent Using the Internet vs GDP Per Capita  \n",
    "    c. 2014 Percent Using the Internet vs GDP Per Capita  "
   ]
  },
  {
   "cell_type": "code",
   "execution_count": 29,
   "id": "091a8090",
   "metadata": {},
   "outputs": [
    {
     "data": {
      "text/plain": [
       "Text(0, 0.5, 'GDP Per Capita')"
      ]
     },
     "execution_count": 29,
     "metadata": {},
     "output_type": "execute_result"
    },
    {
     "data": {
      "image/png": "[encoded data removed]",
      "text/plain": [
       "<Figure size 640x480 with 1 Axes>"
      ]
     },
     "metadata": {},
     "output_type": "display_data"
    }
   ],
   "source": [
    "plt.scatter(x = 'Internet_Users_Pct', y = 'GDP_Per_Capita', data = gdp_internet_2004, marker = 'd', color = 'orangered')\n",
    "plt.title(\"Internet Users Pct vs GDP Per Capita\\n2004\")\n",
    "plt.xlabel(\"Internet Users %\")\n",
    "plt.ylabel(\"GDP Per Capita\")"
   ]
  },
  {
   "cell_type": "code",
   "execution_count": 30,
   "id": "2d5897d7",
   "metadata": {},
   "outputs": [
    {
     "data": {
      "text/plain": [
       "Text(0, 0.5, 'GDP Per Capita')"
      ]
     },
     "execution_count": 30,
     "metadata": {},
     "output_type": "execute_result"
    },
    {
     "data": {
      "image/png": "[encoded data removed]",
      "text/plain": [
       "<Figure size 640x480 with 1 Axes>"
      ]
     },
     "metadata": {},
     "output_type": "display_data"
    }
   ],
   "source": [
    "plt.scatter(x = 'Internet_Users_Pct', y = 'GDP_Per_Capita', data = gdp_internet_2009, marker = 'P', color = 'royalblue')\n",
    "plt.title(\"Internet Users Pct vs GDP Per Capita\\n2009\")\n",
    "plt.xlabel(\"Internet Users %\")\n",
    "plt.ylabel(\"GDP Per Capita\")"
   ]
  },
  {
   "cell_type": "code",
   "execution_count": 31,
   "id": "df7f5fbc",
   "metadata": {},
   "outputs": [
    {
     "data": {
      "text/plain": [
       "Text(0, 0.5, 'GDP Per Capita')"
      ]
     },
     "execution_count": 31,
     "metadata": {},
     "output_type": "execute_result"
    },
    {
     "data": {
      "image/png": "[encoded data removed]",
      "text/plain": [
       "<Figure size 640x480 with 1 Axes>"
      ]
     },
     "metadata": {},
     "output_type": "display_data"
    }
   ],
   "source": [
    "plt.scatter(x = 'Internet_Users_Pct', y = 'GDP_Per_Capita', data = gdp_internet_2014, marker = 'o', color = 'limegreen')\n",
    "plt.title(\"Internet Users Pct vs GDP Per Capita\\n2014\")\n",
    "plt.xlabel(\"Internet Users %\")\n",
    "plt.ylabel(\"GDP Per Capita\")"
   ]
  },
  {
   "cell_type": "code",
   "execution_count": 32,
   "id": "60b6218a",
   "metadata": {
    "scrolled": true
   },
   "outputs": [
    {
     "data": {
      "text/plain": [
       "<matplotlib.legend.Legend at 0x1bfa91e81c0>"
      ]
     },
     "execution_count": 32,
     "metadata": {},
     "output_type": "execute_result"
    },
    {
     "data": {
      "image/png": "[encoded data removed]",
      "text/plain": [
       "<Figure size 640x480 with 1 Axes>"
      ]
     },
     "metadata": {},
     "output_type": "display_data"
    }
   ],
   "source": [
    "# Show each scatterplot on the same graph\n",
    "#\n",
    "# Code variable context:\n",
    "# gdp_and_internet_subset = gdp_and_internet_use.loc[gdp_and_internet_use['Year'].isin([2004, 2009, 2014])]\n",
    "# gdp_internet_2004 = gdp_and_internet_subset.loc[(gdp_and_internet_subset['Year'] == 2004)]\n",
    "# gdp_internet_2009 = gdp_and_internet_subset.loc[(gdp_and_internet_subset['Year'] == 2009)]\n",
    "# gdp_internet_2014 = gdp_and_internet_subset.loc[(gdp_and_internet_subset['Year'] == 2014)]\n",
    "#\n",
    "\n",
    "data_2004 = (list(gdp_internet_2004['Internet_Users_Pct']), list(gdp_internet_2004['GDP_Per_Capita']))\n",
    "data_2009 = (list(gdp_internet_2009['Internet_Users_Pct']), list(gdp_internet_2009['GDP_Per_Capita']))\n",
    "data_2014 = (list(gdp_internet_2014['Internet_Users_Pct']), list(gdp_internet_2014['GDP_Per_Capita']))\n",
    "\n",
    "data_tuple = (data_2004, data_2009, data_2014)\n",
    "colors = ('orangered', 'royalblue', 'limegreen')\n",
    "markers = ('d', 'P', 'o')\n",
    "groups = (2004, 2009, 2014)\n",
    "\n",
    "fig = plt.figure()\n",
    "ax = fig.add_subplot(1, 1, 1, facecolor=\"1.0\")\n",
    "\n",
    "for data, clr, mrk, group in zip(data_tuple, colors, markers, groups):\n",
    "    x, y = data\n",
    "    ax.scatter(x, y, alpha = 0.5, color = clr, marker = mrk, edgecolors = 'none', s = 30, label = group)\n",
    "\n",
    "plt.title('Internet User % vs GDP Per Capita\\n2004, 2009, 2014')\n",
    "plt.xlabel(\"Internet Users %\")\n",
    "plt.ylabel(\"GDP Per Capita\")\n",
    "plt.legend(loc = 2)"
   ]
  },
  {
   "cell_type": "markdown",
   "id": "62f912c7",
   "metadata": {},
   "source": [
    "##### 22.\tAre there differences across years? What do the plots tell you about any relationship between these two variables? Enter your observations as a markdown cell.\n",
    "\n",
    "Answer: There is a loose positive correlation between the % of internet users and GDP per capita. There is less of a correlation in 2004 between the two variables compared to 10 years later in 2014 where there is a much stronger positive correlation between the two variables. Also, in 2004, quite a few countries that have a very high GDP per capita also have a very low % of internet users."
   ]
  },
  {
   "cell_type": "markdown",
   "id": "a1fd37a3",
   "metadata": {},
   "source": [
    "<hr>\n",
    "\n",
    "##### 23.\tLook at the distribution of gdp per capita values for 2014. Is it unimodal?"
   ]
  },
  {
   "cell_type": "code",
   "execution_count": 33,
   "id": "a4e1b408",
   "metadata": {},
   "outputs": [
    {
     "data": {
      "text/plain": [
       "Text(0, 0.5, 'Number of Countries')"
      ]
     },
     "execution_count": 33,
     "metadata": {},
     "output_type": "execute_result"
    },
    {
     "data": {
      "image/png": "[encoded data removed]",
      "text/plain": [
       "<Figure size 640x480 with 1 Axes>"
      ]
     },
     "metadata": {},
     "output_type": "display_data"
    }
   ],
   "source": [
    "x = list(gdp_internet_2014['GDP_Per_Capita'])\n",
    "plt.hist(x, color = 'maroon', bins = 25)\n",
    "plt.title('GDP Per Capita Distribution')\n",
    "plt.xlabel('GDP Per Capita')\n",
    "plt.ylabel('Number of Countries')"
   ]
  },
  {
   "cell_type": "markdown",
   "id": "b495c446",
   "metadata": {},
   "source": [
    "Answer: The GDP per capita values for 2014 show a unimodal distribution."
   ]
  },
  {
   "cell_type": "code",
   "execution_count": 34,
   "id": "2edcddf3",
   "metadata": {},
   "outputs": [
    {
     "data": {
      "text/plain": [
       "Text(0, 0.5, 'Number of Countries')"
      ]
     },
     "execution_count": 34,
     "metadata": {},
     "output_type": "execute_result"
    },
    {
     "data": {
      "image/png": "[encoded data removed]",
      "text/plain": [
       "<Figure size 640x480 with 1 Axes>"
      ]
     },
     "metadata": {},
     "output_type": "display_data"
    }
   ],
   "source": [
    "x = list(gdp_internet_2014['Internet_Users_Pct'])\n",
    "plt.hist(x, color = 'green', bins = 10)\n",
    "plt.title('% of Internet Users Distribution')\n",
    "plt.xlabel('% Internet Users')\n",
    "plt.ylabel('Number of Countries')"
   ]
  },
  {
   "cell_type": "markdown",
   "id": "3f809165",
   "metadata": {},
   "source": [
    "Answer: The values for the percentage of internet users for 2014 show a bimodal distribution."
   ]
  },
  {
   "cell_type": "markdown",
   "id": "dc71447c",
   "metadata": {},
   "source": [
    "<hr>\n",
    "\n",
    "##### 25.\tWhat are the top 5 countries in terms of internet use in 2014?"
   ]
  },
  {
   "cell_type": "code",
   "execution_count": 35,
   "id": "6561baa2",
   "metadata": {},
   "outputs": [
    {
     "name": "stdout",
     "output_type": "stream",
     "text": [
      "The top 5 countries for internet use in 2014 are Iceland, Bermuda, Norway, Denmark and Andorra.\n"
     ]
    }
   ],
   "source": [
    "top_5_internet_2014 = gdp_internet_2014.sort_values(by = 'Internet_Users_Pct', ascending = False).head()\n",
    "top_5_internet_2014 = list(top_5_internet_2014['Country'])\n",
    "print('The top 5 countries for internet use in 2014 are {}.'.format(' and '.join([', '.join(top_5_internet_2014[:-1]), top_5_internet_2014[-1]])))"
   ]
  },
  {
   "cell_type": "markdown",
   "id": "e50ee533",
   "metadata": {},
   "source": [
    "Answer: The top 5 countries for internet use in 2014 are Iceland, Bermuda, Norway, Denmark and Andorra."
   ]
  },
  {
   "cell_type": "markdown",
   "id": "8d4d5f4b",
   "metadata": {},
   "source": [
    "<hr>\n",
    "\n",
    "##### 26.\tCreate a DataFrame called top_5_internet **from the combined DataFrame that has all three years _for the 5 countries that had the greatest 2014 internet usage_**. You should have 15 rows. Check that this is true."
   ]
  },
  {
   "cell_type": "code",
   "execution_count": 36,
   "id": "8396a23e",
   "metadata": {},
   "outputs": [],
   "source": [
    "top_5_internet = gdp_and_internet_subset.loc[gdp_and_internet_subset['Country'].isin(top_5_internet_2014)]"
   ]
  },
  {
   "cell_type": "code",
   "execution_count": 37,
   "id": "eb0edd9d",
   "metadata": {},
   "outputs": [
    {
     "data": {
      "text/html": [
       "<div>\n",
       "<style scoped>\n",
       "    .dataframe tbody tr th:only-of-type {\n",
       "        vertical-align: middle;\n",
       "    }\n",
       "\n",
       "    .dataframe tbody tr th {\n",
       "        vertical-align: top;\n",
       "    }\n",
       "\n",
       "    .dataframe thead th {\n",
       "        text-align: right;\n",
       "    }\n",
       "</style>\n",
       "<table border=\"1\" class=\"dataframe\">\n",
       "  <thead>\n",
       "    <tr style=\"text-align: right;\">\n",
       "      <th></th>\n",
       "      <th>Country</th>\n",
       "      <th>Year</th>\n",
       "      <th>GDP_Per_Capita</th>\n",
       "      <th>Internet_Users_Pct</th>\n",
       "    </tr>\n",
       "  </thead>\n",
       "  <tbody>\n",
       "    <tr>\n",
       "      <th>7189</th>\n",
       "      <td>Andorra</td>\n",
       "      <td>2004</td>\n",
       "      <td>NaN</td>\n",
       "      <td>26.838</td>\n",
       "    </tr>\n",
       "    <tr>\n",
       "      <th>7184</th>\n",
       "      <td>Andorra</td>\n",
       "      <td>2009</td>\n",
       "      <td>NaN</td>\n",
       "      <td>78.530</td>\n",
       "    </tr>\n",
       "    <tr>\n",
       "      <th>7179</th>\n",
       "      <td>Andorra</td>\n",
       "      <td>2014</td>\n",
       "      <td>NaN</td>\n",
       "      <td>95.900</td>\n",
       "    </tr>\n",
       "    <tr>\n",
       "      <th>655</th>\n",
       "      <td>Bermuda</td>\n",
       "      <td>2004</td>\n",
       "      <td>90195.81</td>\n",
       "      <td>60.991</td>\n",
       "    </tr>\n",
       "    <tr>\n",
       "      <th>650</th>\n",
       "      <td>Bermuda</td>\n",
       "      <td>2009</td>\n",
       "      <td>89961.98</td>\n",
       "      <td>83.250</td>\n",
       "    </tr>\n",
       "    <tr>\n",
       "      <th>645</th>\n",
       "      <td>Bermuda</td>\n",
       "      <td>2014</td>\n",
       "      <td>77361.10</td>\n",
       "      <td>96.800</td>\n",
       "    </tr>\n",
       "    <tr>\n",
       "      <th>1571</th>\n",
       "      <td>Denmark</td>\n",
       "      <td>2004</td>\n",
       "      <td>50446.54</td>\n",
       "      <td>80.930</td>\n",
       "    </tr>\n",
       "    <tr>\n",
       "      <th>1566</th>\n",
       "      <td>Denmark</td>\n",
       "      <td>2009</td>\n",
       "      <td>50114.05</td>\n",
       "      <td>86.840</td>\n",
       "    </tr>\n",
       "    <tr>\n",
       "      <th>1561</th>\n",
       "      <td>Denmark</td>\n",
       "      <td>2014</td>\n",
       "      <td>52048.34</td>\n",
       "      <td>95.990</td>\n",
       "    </tr>\n",
       "    <tr>\n",
       "      <th>2813</th>\n",
       "      <td>Iceland</td>\n",
       "      <td>2004</td>\n",
       "      <td>46051.74</td>\n",
       "      <td>83.880</td>\n",
       "    </tr>\n",
       "    <tr>\n",
       "      <th>2808</th>\n",
       "      <td>Iceland</td>\n",
       "      <td>2009</td>\n",
       "      <td>48770.95</td>\n",
       "      <td>93.000</td>\n",
       "    </tr>\n",
       "    <tr>\n",
       "      <th>2803</th>\n",
       "      <td>Iceland</td>\n",
       "      <td>2014</td>\n",
       "      <td>50450.74</td>\n",
       "      <td>98.160</td>\n",
       "    </tr>\n",
       "    <tr>\n",
       "      <th>4890</th>\n",
       "      <td>Norway</td>\n",
       "      <td>2004</td>\n",
       "      <td>60699.57</td>\n",
       "      <td>77.690</td>\n",
       "    </tr>\n",
       "    <tr>\n",
       "      <th>4885</th>\n",
       "      <td>Norway</td>\n",
       "      <td>2009</td>\n",
       "      <td>61689.56</td>\n",
       "      <td>92.080</td>\n",
       "    </tr>\n",
       "    <tr>\n",
       "      <th>4880</th>\n",
       "      <td>Norway</td>\n",
       "      <td>2014</td>\n",
       "      <td>62390.13</td>\n",
       "      <td>96.300</td>\n",
       "    </tr>\n",
       "  </tbody>\n",
       "</table>\n",
       "</div>"
      ],
      "text/plain": [
       "      Country  Year  GDP_Per_Capita  Internet_Users_Pct\n",
       "7189  Andorra  2004             NaN              26.838\n",
       "7184  Andorra  2009             NaN              78.530\n",
       "7179  Andorra  2014             NaN              95.900\n",
       "655   Bermuda  2004        90195.81              60.991\n",
       "650   Bermuda  2009        89961.98              83.250\n",
       "645   Bermuda  2014        77361.10              96.800\n",
       "1571  Denmark  2004        50446.54              80.930\n",
       "1566  Denmark  2009        50114.05              86.840\n",
       "1561  Denmark  2014        52048.34              95.990\n",
       "2813  Iceland  2004        46051.74              83.880\n",
       "2808  Iceland  2009        48770.95              93.000\n",
       "2803  Iceland  2014        50450.74              98.160\n",
       "4890   Norway  2004        60699.57              77.690\n",
       "4885   Norway  2009        61689.56              92.080\n",
       "4880   Norway  2014        62390.13              96.300"
      ]
     },
     "execution_count": 37,
     "metadata": {},
     "output_type": "execute_result"
    }
   ],
   "source": [
    "top_5_internet"
   ]
  },
  {
   "cell_type": "markdown",
   "id": "1b6cac77",
   "metadata": {},
   "source": [
    "<hr>\n",
    "\n",
    "##### 27.\tCreate a seaborn FacetGrid to show the internet usage trend across the years 2004, 2009, and 2014 for these 5 countries (those with the highest reported internet use in 2014). Which country had the greatest growth between 2004 and 2014?"
   ]
  },
  {
   "cell_type": "code",
   "execution_count": 38,
   "id": "0142adc2",
   "metadata": {
    "scrolled": true
   },
   "outputs": [
    {
     "data": {
      "text/plain": [
       "Text(0.5, 1.0, 'Internet Use Trend\\n2004, 2009, 2014')"
      ]
     },
     "execution_count": 38,
     "metadata": {},
     "output_type": "execute_result"
    },
    {
     "data": {
      "image/png": "[encoded data removed]",
      "text/plain": [
       "<Figure size 414x300 with 1 Axes>"
      ]
     },
     "metadata": {},
     "output_type": "display_data"
    }
   ],
   "source": [
    "g = sns.FacetGrid(top_5_internet, hue = 'Country', hue_order = top_5_internet_2014)\n",
    "g.map(plt.plot, 'Year', 'Internet_Users_Pct', marker = 'o', markersize = 2, alpha = 0.6).add_legend()\n",
    "plt.xticks([2004, 2009, 2014])\n",
    "plt.grid(True, axis = 'y', color='0.9')\n",
    "plt.ylabel('Internet Users (%)')\n",
    "plt.title('Internet Use Trend\\n2004, 2009, 2014')"
   ]
  },
  {
   "cell_type": "markdown",
   "id": "5eb64886",
   "metadata": {},
   "source": [
    "Answer: The country with the greatest growth of internet users from 2004 to 2014 is Andorra."
   ]
  },
  {
   "cell_type": "markdown",
   "id": "773402a7",
   "metadata": {},
   "source": [
    "<hr>\n",
    "\n",
    "##### 28.\tRepeat the steps above to look at the trend for the 5 countries with the lowest 2014 internet usage. Which country has consistently had the least internet use?"
   ]
  },
  {
   "cell_type": "code",
   "execution_count": 39,
   "id": "0471f0c4",
   "metadata": {},
   "outputs": [
    {
     "data": {
      "text/html": [
       "<div>\n",
       "<style scoped>\n",
       "    .dataframe tbody tr th:only-of-type {\n",
       "        vertical-align: middle;\n",
       "    }\n",
       "\n",
       "    .dataframe tbody tr th {\n",
       "        vertical-align: top;\n",
       "    }\n",
       "\n",
       "    .dataframe thead th {\n",
       "        text-align: right;\n",
       "    }\n",
       "</style>\n",
       "<table border=\"1\" class=\"dataframe\">\n",
       "  <thead>\n",
       "    <tr style=\"text-align: right;\">\n",
       "      <th></th>\n",
       "      <th>Country</th>\n",
       "      <th>Year</th>\n",
       "      <th>GDP_Per_Capita</th>\n",
       "      <th>Internet_Users_Pct</th>\n",
       "    </tr>\n",
       "  </thead>\n",
       "  <tbody>\n",
       "    <tr>\n",
       "      <th>6</th>\n",
       "      <td>Afghanistan</td>\n",
       "      <td>2014</td>\n",
       "      <td>2102.38</td>\n",
       "      <td>6.39</td>\n",
       "    </tr>\n",
       "    <tr>\n",
       "      <th>25</th>\n",
       "      <td>Africa Eastern and Southern</td>\n",
       "      <td>2014</td>\n",
       "      <td>3677.32</td>\n",
       "      <td>NaN</td>\n",
       "    </tr>\n",
       "    <tr>\n",
       "      <th>56</th>\n",
       "      <td>Africa Western and Central</td>\n",
       "      <td>2014</td>\n",
       "      <td>4215.65</td>\n",
       "      <td>NaN</td>\n",
       "    </tr>\n",
       "    <tr>\n",
       "      <th>87</th>\n",
       "      <td>Albania</td>\n",
       "      <td>2014</td>\n",
       "      <td>11586.83</td>\n",
       "      <td>60.10</td>\n",
       "    </tr>\n",
       "    <tr>\n",
       "      <th>118</th>\n",
       "      <td>Algeria</td>\n",
       "      <td>2014</td>\n",
       "      <td>11512.69</td>\n",
       "      <td>18.09</td>\n",
       "    </tr>\n",
       "    <tr>\n",
       "      <th>...</th>\n",
       "      <td>...</td>\n",
       "      <td>...</td>\n",
       "      <td>...</td>\n",
       "      <td>...</td>\n",
       "    </tr>\n",
       "    <tr>\n",
       "      <th>7062</th>\n",
       "      <td>West Bank and Gaza</td>\n",
       "      <td>2014</td>\n",
       "      <td>5967.07</td>\n",
       "      <td>NaN</td>\n",
       "    </tr>\n",
       "    <tr>\n",
       "      <th>7089</th>\n",
       "      <td>World</td>\n",
       "      <td>2014</td>\n",
       "      <td>15224.44</td>\n",
       "      <td>NaN</td>\n",
       "    </tr>\n",
       "    <tr>\n",
       "      <th>8236</th>\n",
       "      <td>Yemen</td>\n",
       "      <td>2014</td>\n",
       "      <td>NaN</td>\n",
       "      <td>22.55</td>\n",
       "    </tr>\n",
       "    <tr>\n",
       "      <th>7120</th>\n",
       "      <td>Zambia</td>\n",
       "      <td>2014</td>\n",
       "      <td>3450.04</td>\n",
       "      <td>17.34</td>\n",
       "    </tr>\n",
       "    <tr>\n",
       "      <th>7151</th>\n",
       "      <td>Zimbabwe</td>\n",
       "      <td>2014</td>\n",
       "      <td>2357.65</td>\n",
       "      <td>19.89</td>\n",
       "    </tr>\n",
       "  </tbody>\n",
       "</table>\n",
       "<p>281 rows × 4 columns</p>\n",
       "</div>"
      ],
      "text/plain": [
       "                          Country  Year  GDP_Per_Capita  Internet_Users_Pct\n",
       "6                     Afghanistan  2014         2102.38                6.39\n",
       "25    Africa Eastern and Southern  2014         3677.32                 NaN\n",
       "56     Africa Western and Central  2014         4215.65                 NaN\n",
       "87                        Albania  2014        11586.83               60.10\n",
       "118                       Algeria  2014        11512.69               18.09\n",
       "...                           ...   ...             ...                 ...\n",
       "7062           West Bank and Gaza  2014         5967.07                 NaN\n",
       "7089                        World  2014        15224.44                 NaN\n",
       "8236                        Yemen  2014             NaN               22.55\n",
       "7120                       Zambia  2014         3450.04               17.34\n",
       "7151                     Zimbabwe  2014         2357.65               19.89\n",
       "\n",
       "[281 rows x 4 columns]"
      ]
     },
     "execution_count": 39,
     "metadata": {},
     "output_type": "execute_result"
    }
   ],
   "source": [
    "gdp_internet_2014"
   ]
  },
  {
   "cell_type": "code",
   "execution_count": 83,
   "id": "97395ffb",
   "metadata": {},
   "outputs": [
    {
     "data": {
      "text/html": [
       "<div>\n",
       "<style scoped>\n",
       "    .dataframe tbody tr th:only-of-type {\n",
       "        vertical-align: middle;\n",
       "    }\n",
       "\n",
       "    .dataframe tbody tr th {\n",
       "        vertical-align: top;\n",
       "    }\n",
       "\n",
       "    .dataframe thead th {\n",
       "        text-align: right;\n",
       "    }\n",
       "</style>\n",
       "<table border=\"1\" class=\"dataframe\">\n",
       "  <thead>\n",
       "    <tr style=\"text-align: right;\">\n",
       "      <th></th>\n",
       "      <th>Country</th>\n",
       "      <th>Year</th>\n",
       "      <th>GDP_Per_Capita</th>\n",
       "      <th>Internet_Users_Pct</th>\n",
       "    </tr>\n",
       "  </thead>\n",
       "  <tbody>\n",
       "    <tr>\n",
       "      <th>930</th>\n",
       "      <td>Burundi</td>\n",
       "      <td>2004</td>\n",
       "      <td>817.46</td>\n",
       "      <td>0.349</td>\n",
       "    </tr>\n",
       "    <tr>\n",
       "      <th>925</th>\n",
       "      <td>Burundi</td>\n",
       "      <td>2009</td>\n",
       "      <td>831.56</td>\n",
       "      <td>0.900</td>\n",
       "    </tr>\n",
       "    <tr>\n",
       "      <th>920</th>\n",
       "      <td>Burundi</td>\n",
       "      <td>2014</td>\n",
       "      <td>886.24</td>\n",
       "      <td>1.380</td>\n",
       "    </tr>\n",
       "    <tr>\n",
       "      <th>7403</th>\n",
       "      <td>Dem. People's Rep. of Korea</td>\n",
       "      <td>2004</td>\n",
       "      <td>NaN</td>\n",
       "      <td>0.000</td>\n",
       "    </tr>\n",
       "    <tr>\n",
       "      <th>7398</th>\n",
       "      <td>Dem. People's Rep. of Korea</td>\n",
       "      <td>2009</td>\n",
       "      <td>NaN</td>\n",
       "      <td>0.000</td>\n",
       "    </tr>\n",
       "    <tr>\n",
       "      <th>7394</th>\n",
       "      <td>Dem. People's Rep. of Korea</td>\n",
       "      <td>2014</td>\n",
       "      <td>NaN</td>\n",
       "      <td>0.000</td>\n",
       "    </tr>\n",
       "    <tr>\n",
       "      <th>7457</th>\n",
       "      <td>Eritrea</td>\n",
       "      <td>2009</td>\n",
       "      <td>NaN</td>\n",
       "      <td>0.540</td>\n",
       "    </tr>\n",
       "    <tr>\n",
       "      <th>7452</th>\n",
       "      <td>Eritrea</td>\n",
       "      <td>2014</td>\n",
       "      <td>NaN</td>\n",
       "      <td>0.990</td>\n",
       "    </tr>\n",
       "    <tr>\n",
       "      <th>8011</th>\n",
       "      <td>Somalia</td>\n",
       "      <td>2004</td>\n",
       "      <td>NaN</td>\n",
       "      <td>1.053</td>\n",
       "    </tr>\n",
       "    <tr>\n",
       "      <th>8006</th>\n",
       "      <td>Somalia</td>\n",
       "      <td>2009</td>\n",
       "      <td>NaN</td>\n",
       "      <td>1.161</td>\n",
       "    </tr>\n",
       "    <tr>\n",
       "      <th>5877</th>\n",
       "      <td>Somalia</td>\n",
       "      <td>2014</td>\n",
       "      <td>917.88</td>\n",
       "      <td>1.630</td>\n",
       "    </tr>\n",
       "    <tr>\n",
       "      <th>6546</th>\n",
       "      <td>Timor-Leste</td>\n",
       "      <td>2004</td>\n",
       "      <td>2258.38</td>\n",
       "      <td>NaN</td>\n",
       "    </tr>\n",
       "    <tr>\n",
       "      <th>6541</th>\n",
       "      <td>Timor-Leste</td>\n",
       "      <td>2009</td>\n",
       "      <td>2729.28</td>\n",
       "      <td>0.185</td>\n",
       "    </tr>\n",
       "    <tr>\n",
       "      <th>6536</th>\n",
       "      <td>Timor-Leste</td>\n",
       "      <td>2014</td>\n",
       "      <td>3266.73</td>\n",
       "      <td>1.140</td>\n",
       "    </tr>\n",
       "  </tbody>\n",
       "</table>\n",
       "</div>"
      ],
      "text/plain": [
       "                          Country  Year  GDP_Per_Capita  Internet_Users_Pct\n",
       "930                       Burundi  2004          817.46               0.349\n",
       "925                       Burundi  2009          831.56               0.900\n",
       "920                       Burundi  2014          886.24               1.380\n",
       "7403  Dem. People's Rep. of Korea  2004             NaN               0.000\n",
       "7398  Dem. People's Rep. of Korea  2009             NaN               0.000\n",
       "7394  Dem. People's Rep. of Korea  2014             NaN               0.000\n",
       "7457                      Eritrea  2009             NaN               0.540\n",
       "7452                      Eritrea  2014             NaN               0.990\n",
       "8011                      Somalia  2004             NaN               1.053\n",
       "8006                      Somalia  2009             NaN               1.161\n",
       "5877                      Somalia  2014          917.88               1.630\n",
       "6546                  Timor-Leste  2004         2258.38                 NaN\n",
       "6541                  Timor-Leste  2009         2729.28               0.185\n",
       "6536                  Timor-Leste  2014         3266.73               1.140"
      ]
     },
     "execution_count": 83,
     "metadata": {},
     "output_type": "execute_result"
    }
   ],
   "source": [
    "bottom_5_internet_2014 = gdp_internet_2014[['Country', 'Internet_Users_Pct']].sort_values(by='Internet_Users_Pct').head()\n",
    "bottom_5_internet_2014 = list(bottom_5_internet_2014['Country'])\n",
    "bottom_5_internet = gdp_and_internet_subset.loc[gdp_and_internet_subset['Country'].isin(bottom_5_internet_2014)]\n",
    "#bottom_5_internet"
   ]
  },
  {
   "cell_type": "code",
   "execution_count": 89,
   "id": "2330d6c5",
   "metadata": {},
   "outputs": [
    {
     "data": {
      "image/png": "[encoded data removed]",
      "text/plain": [
       "<Figure size 545.75x300 with 1 Axes>"
      ]
     },
     "metadata": {},
     "output_type": "display_data"
    }
   ],
   "source": [
    "g2 = sns.FacetGrid(bottom_5_internet, hue = 'Country', hue_order = bottom_5_internet_2014)\n",
    "g2.map(plt.plot, 'Year', 'Internet_Users_Pct', marker = 'o', markersize = 2, alpha = 0.6).add_legend()\n",
    "plt.xticks([2004, 2009, 2014])\n",
    "plt.ylabel('Internet Users (%)')\n",
    "plt.title('Internet Use Trend\\n2004, 2009, 2014')\n",
    "plt.grid(True, axis = 'y', color = '0.9')"
   ]
  },
  {
   "cell_type": "markdown",
   "id": "927fb572",
   "metadata": {},
   "source": [
    "Answer: Dem. People's Rep. of Korea has had the consistently lowest % of internet users."
   ]
  },
  {
   "cell_type": "markdown",
   "id": "5889d724",
   "metadata": {},
   "source": [
    "<hr>\n",
    "\n",
    "##### 29.\tFind the top 5 countries for 2014 in terms of GDP per capita; create a DataFrame to look at 10-year trends (use 2004, 2009, 2014 to look at the 10-year trend) in gdp per capita for the 5 countries with the highest 2014 GDP per capita. Use a seaborn facet grid for this."
   ]
  },
  {
   "cell_type": "code",
   "execution_count": 84,
   "id": "accbfe2d",
   "metadata": {},
   "outputs": [
    {
     "data": {
      "text/html": [
       "<div>\n",
       "<style scoped>\n",
       "    .dataframe tbody tr th:only-of-type {\n",
       "        vertical-align: middle;\n",
       "    }\n",
       "\n",
       "    .dataframe tbody tr th {\n",
       "        vertical-align: top;\n",
       "    }\n",
       "\n",
       "    .dataframe thead th {\n",
       "        text-align: right;\n",
       "    }\n",
       "</style>\n",
       "<table border=\"1\" class=\"dataframe\">\n",
       "  <thead>\n",
       "    <tr style=\"text-align: right;\">\n",
       "      <th></th>\n",
       "      <th>Country</th>\n",
       "      <th>Year</th>\n",
       "      <th>GDP_Per_Capita</th>\n",
       "      <th>Internet_Users_Pct</th>\n",
       "    </tr>\n",
       "  </thead>\n",
       "  <tbody>\n",
       "    <tr>\n",
       "      <th>655</th>\n",
       "      <td>Bermuda</td>\n",
       "      <td>2004</td>\n",
       "      <td>90195.81</td>\n",
       "      <td>60.991</td>\n",
       "    </tr>\n",
       "    <tr>\n",
       "      <th>650</th>\n",
       "      <td>Bermuda</td>\n",
       "      <td>2009</td>\n",
       "      <td>89961.98</td>\n",
       "      <td>83.250</td>\n",
       "    </tr>\n",
       "    <tr>\n",
       "      <th>645</th>\n",
       "      <td>Bermuda</td>\n",
       "      <td>2014</td>\n",
       "      <td>77361.10</td>\n",
       "      <td>96.800</td>\n",
       "    </tr>\n",
       "    <tr>\n",
       "      <th>3898</th>\n",
       "      <td>Luxembourg</td>\n",
       "      <td>2004</td>\n",
       "      <td>107634.84</td>\n",
       "      <td>65.880</td>\n",
       "    </tr>\n",
       "    <tr>\n",
       "      <th>3893</th>\n",
       "      <td>Luxembourg</td>\n",
       "      <td>2009</td>\n",
       "      <td>112230.08</td>\n",
       "      <td>87.310</td>\n",
       "    </tr>\n",
       "    <tr>\n",
       "      <th>3888</th>\n",
       "      <td>Luxembourg</td>\n",
       "      <td>2014</td>\n",
       "      <td>113313.58</td>\n",
       "      <td>94.670</td>\n",
       "    </tr>\n",
       "    <tr>\n",
       "      <th>3929</th>\n",
       "      <td>Macao SAR, China</td>\n",
       "      <td>2004</td>\n",
       "      <td>73322.93</td>\n",
       "      <td>NaN</td>\n",
       "    </tr>\n",
       "    <tr>\n",
       "      <th>3924</th>\n",
       "      <td>Macao SAR, China</td>\n",
       "      <td>2009</td>\n",
       "      <td>96493.79</td>\n",
       "      <td>NaN</td>\n",
       "    </tr>\n",
       "    <tr>\n",
       "      <th>3919</th>\n",
       "      <td>Macao SAR, China</td>\n",
       "      <td>2014</td>\n",
       "      <td>155201.74</td>\n",
       "      <td>NaN</td>\n",
       "    </tr>\n",
       "    <tr>\n",
       "      <th>5397</th>\n",
       "      <td>Qatar</td>\n",
       "      <td>2004</td>\n",
       "      <td>93748.55</td>\n",
       "      <td>20.702</td>\n",
       "    </tr>\n",
       "    <tr>\n",
       "      <th>5392</th>\n",
       "      <td>Qatar</td>\n",
       "      <td>2009</td>\n",
       "      <td>89954.85</td>\n",
       "      <td>53.100</td>\n",
       "    </tr>\n",
       "    <tr>\n",
       "      <th>5387</th>\n",
       "      <td>Qatar</td>\n",
       "      <td>2014</td>\n",
       "      <td>95578.26</td>\n",
       "      <td>91.490</td>\n",
       "    </tr>\n",
       "    <tr>\n",
       "      <th>5736</th>\n",
       "      <td>Singapore</td>\n",
       "      <td>2004</td>\n",
       "      <td>63862.12</td>\n",
       "      <td>62.000</td>\n",
       "    </tr>\n",
       "    <tr>\n",
       "      <th>5731</th>\n",
       "      <td>Singapore</td>\n",
       "      <td>2009</td>\n",
       "      <td>69430.48</td>\n",
       "      <td>69.000</td>\n",
       "    </tr>\n",
       "    <tr>\n",
       "      <th>5726</th>\n",
       "      <td>Singapore</td>\n",
       "      <td>2014</td>\n",
       "      <td>87616.64</td>\n",
       "      <td>82.000</td>\n",
       "    </tr>\n",
       "  </tbody>\n",
       "</table>\n",
       "</div>"
      ],
      "text/plain": [
       "               Country  Year  GDP_Per_Capita  Internet_Users_Pct\n",
       "655            Bermuda  2004        90195.81              60.991\n",
       "650            Bermuda  2009        89961.98              83.250\n",
       "645            Bermuda  2014        77361.10              96.800\n",
       "3898        Luxembourg  2004       107634.84              65.880\n",
       "3893        Luxembourg  2009       112230.08              87.310\n",
       "3888        Luxembourg  2014       113313.58              94.670\n",
       "3929  Macao SAR, China  2004        73322.93                 NaN\n",
       "3924  Macao SAR, China  2009        96493.79                 NaN\n",
       "3919  Macao SAR, China  2014       155201.74                 NaN\n",
       "5397             Qatar  2004        93748.55              20.702\n",
       "5392             Qatar  2009        89954.85              53.100\n",
       "5387             Qatar  2014        95578.26              91.490\n",
       "5736         Singapore  2004        63862.12              62.000\n",
       "5731         Singapore  2009        69430.48              69.000\n",
       "5726         Singapore  2014        87616.64              82.000"
      ]
     },
     "execution_count": 84,
     "metadata": {},
     "output_type": "execute_result"
    }
   ],
   "source": [
    "top_5_gdp_2014 = gdp_internet_2014.sort_values(by = 'GDP_Per_Capita', ascending = False).head()\n",
    "top_5_gdp_2014 = list(top_5_gdp_2014['Country'])\n",
    "top_5_gdp = gdp_and_internet_subset[gdp_and_internet_subset['Country'].isin(top_5_gdp_2014)]\n",
    "top_5_gdp"
   ]
  },
  {
   "cell_type": "code",
   "execution_count": 91,
   "id": "f84cb6f1",
   "metadata": {},
   "outputs": [
    {
     "data": {
      "text/plain": [
       "Text(86.60220196759259, 0.5, 'GDP Per Capita')"
      ]
     },
     "execution_count": 91,
     "metadata": {},
     "output_type": "execute_result"
    },
    {
     "data": {
      "image/png": "[encoded data removed]",
      "text/plain": [
       "<Figure size 476.5x300 with 1 Axes>"
      ]
     },
     "metadata": {},
     "output_type": "display_data"
    }
   ],
   "source": [
    "g3 = sns.FacetGrid(top_5_gdp, hue = 'Country', hue_order = top_5_gdp_2014)\n",
    "g3.map(plt.plot, 'Year', 'GDP_Per_Capita', marker = 'o', markersize = 2, alpha = 0.6).add_legend()\n",
    "plt.xticks([2004, 2009, 2014])\n",
    "plt.grid(True, axis = 'y', color = '0.9')\n",
    "plt.title('GDP Per Capita Trends')\n",
    "plt.ylabel('GDP Per Capita')"
   ]
  },
  {
   "cell_type": "markdown",
   "id": "fc66a122",
   "metadata": {},
   "source": [
    "<hr>\n",
    "\n",
    "##### 96. Repeat this one more time to look at 10-year trend for the 5 countries for 2014 with the lowest GDP per capita."
   ]
  },
  {
   "cell_type": "code",
   "execution_count": 100,
   "id": "f8381e07",
   "metadata": {},
   "outputs": [
    {
     "name": "stdout",
     "output_type": "stream",
     "text": [
      "['Central African Republic', 'Burundi', 'Somalia', 'Dem. Rep. Congo', 'Niger']\n"
     ]
    },
    {
     "data": {
      "text/html": [
       "<div>\n",
       "<style scoped>\n",
       "    .dataframe tbody tr th:only-of-type {\n",
       "        vertical-align: middle;\n",
       "    }\n",
       "\n",
       "    .dataframe tbody tr th {\n",
       "        vertical-align: top;\n",
       "    }\n",
       "\n",
       "    .dataframe thead th {\n",
       "        text-align: right;\n",
       "    }\n",
       "</style>\n",
       "<table border=\"1\" class=\"dataframe\">\n",
       "  <thead>\n",
       "    <tr style=\"text-align: right;\">\n",
       "      <th></th>\n",
       "      <th>Country</th>\n",
       "      <th>Year</th>\n",
       "      <th>GDP_Per_Capita</th>\n",
       "      <th>Internet_Users_Pct</th>\n",
       "    </tr>\n",
       "  </thead>\n",
       "  <tbody>\n",
       "    <tr>\n",
       "      <th>930</th>\n",
       "      <td>Burundi</td>\n",
       "      <td>2004</td>\n",
       "      <td>817.46</td>\n",
       "      <td>0.349</td>\n",
       "    </tr>\n",
       "    <tr>\n",
       "      <th>925</th>\n",
       "      <td>Burundi</td>\n",
       "      <td>2009</td>\n",
       "      <td>831.56</td>\n",
       "      <td>0.900</td>\n",
       "    </tr>\n",
       "    <tr>\n",
       "      <th>920</th>\n",
       "      <td>Burundi</td>\n",
       "      <td>2014</td>\n",
       "      <td>886.24</td>\n",
       "      <td>1.380</td>\n",
       "    </tr>\n",
       "    <tr>\n",
       "      <th>1152</th>\n",
       "      <td>Central African Republic</td>\n",
       "      <td>2004</td>\n",
       "      <td>1037.84</td>\n",
       "      <td>NaN</td>\n",
       "    </tr>\n",
       "    <tr>\n",
       "      <th>1147</th>\n",
       "      <td>Central African Republic</td>\n",
       "      <td>2009</td>\n",
       "      <td>1161.19</td>\n",
       "      <td>NaN</td>\n",
       "    </tr>\n",
       "    <tr>\n",
       "      <th>1142</th>\n",
       "      <td>Central African Republic</td>\n",
       "      <td>2014</td>\n",
       "      <td>822.61</td>\n",
       "      <td>NaN</td>\n",
       "    </tr>\n",
       "    <tr>\n",
       "      <th>1540</th>\n",
       "      <td>Dem. Rep. Congo</td>\n",
       "      <td>2004</td>\n",
       "      <td>757.69</td>\n",
       "      <td>NaN</td>\n",
       "    </tr>\n",
       "    <tr>\n",
       "      <th>1535</th>\n",
       "      <td>Dem. Rep. Congo</td>\n",
       "      <td>2009</td>\n",
       "      <td>835.61</td>\n",
       "      <td>NaN</td>\n",
       "    </tr>\n",
       "    <tr>\n",
       "      <th>1530</th>\n",
       "      <td>Dem. Rep. Congo</td>\n",
       "      <td>2014</td>\n",
       "      <td>1029.79</td>\n",
       "      <td>NaN</td>\n",
       "    </tr>\n",
       "    <tr>\n",
       "      <th>4766</th>\n",
       "      <td>Niger</td>\n",
       "      <td>2004</td>\n",
       "      <td>929.22</td>\n",
       "      <td>0.190</td>\n",
       "    </tr>\n",
       "    <tr>\n",
       "      <th>4761</th>\n",
       "      <td>Niger</td>\n",
       "      <td>2009</td>\n",
       "      <td>991.70</td>\n",
       "      <td>0.760</td>\n",
       "    </tr>\n",
       "    <tr>\n",
       "      <th>4756</th>\n",
       "      <td>Niger</td>\n",
       "      <td>2014</td>\n",
       "      <td>1126.81</td>\n",
       "      <td>1.950</td>\n",
       "    </tr>\n",
       "    <tr>\n",
       "      <th>8011</th>\n",
       "      <td>Somalia</td>\n",
       "      <td>2004</td>\n",
       "      <td>NaN</td>\n",
       "      <td>1.053</td>\n",
       "    </tr>\n",
       "    <tr>\n",
       "      <th>8006</th>\n",
       "      <td>Somalia</td>\n",
       "      <td>2009</td>\n",
       "      <td>NaN</td>\n",
       "      <td>1.161</td>\n",
       "    </tr>\n",
       "    <tr>\n",
       "      <th>5877</th>\n",
       "      <td>Somalia</td>\n",
       "      <td>2014</td>\n",
       "      <td>917.88</td>\n",
       "      <td>1.630</td>\n",
       "    </tr>\n",
       "  </tbody>\n",
       "</table>\n",
       "</div>"
      ],
      "text/plain": [
       "                       Country  Year  GDP_Per_Capita  Internet_Users_Pct\n",
       "930                    Burundi  2004          817.46               0.349\n",
       "925                    Burundi  2009          831.56               0.900\n",
       "920                    Burundi  2014          886.24               1.380\n",
       "1152  Central African Republic  2004         1037.84                 NaN\n",
       "1147  Central African Republic  2009         1161.19                 NaN\n",
       "1142  Central African Republic  2014          822.61                 NaN\n",
       "1540           Dem. Rep. Congo  2004          757.69                 NaN\n",
       "1535           Dem. Rep. Congo  2009          835.61                 NaN\n",
       "1530           Dem. Rep. Congo  2014         1029.79                 NaN\n",
       "4766                     Niger  2004          929.22               0.190\n",
       "4761                     Niger  2009          991.70               0.760\n",
       "4756                     Niger  2014         1126.81               1.950\n",
       "8011                   Somalia  2004             NaN               1.053\n",
       "8006                   Somalia  2009             NaN               1.161\n",
       "5877                   Somalia  2014          917.88               1.630"
      ]
     },
     "execution_count": 100,
     "metadata": {},
     "output_type": "execute_result"
    }
   ],
   "source": [
    "bottom_5_gdp_2014 = gdp_internet_2014[['Country', 'GDP_Per_Capita']].sort_values(by='GDP_Per_Capita').head()\n",
    "bottom_5_gdp_2014 = list(bottom_5_gdp_2014['Country'])\n",
    "print(bottom_5_gdp_2014)\n",
    "bottom_5_gdp = gdp_and_internet_subset.loc[gdp_and_internet_subset['Country'].isin(bottom_5_gdp_2014)]\n",
    "bottom_5_gdp"
   ]
  },
  {
   "cell_type": "code",
   "execution_count": 101,
   "id": "b5b33783",
   "metadata": {},
   "outputs": [
    {
     "data": {
      "text/plain": [
       "Text(87.1147663483796, 0.5, 'GDP Per Capita')"
      ]
     },
     "execution_count": 101,
     "metadata": {},
     "output_type": "execute_result"
    },
    {
     "data": {
      "image/png": "[encoded data removed]",
      "text/plain": [
       "<Figure size 517.625x300 with 1 Axes>"
      ]
     },
     "metadata": {},
     "output_type": "display_data"
    }
   ],
   "source": [
    "g4 = sns.FacetGrid(bottom_5_gdp, hue = 'Country', hue_order = bottom_5_gdp_2014)\n",
    "g4.map(plt.plot, 'Year', 'GDP_Per_Capita', marker = 'o', markersize = 2, alpha = 0.6).add_legend()\n",
    "plt.xticks([2004, 2009, 2014])\n",
    "plt.grid(True, axis = 'y', color = '0.9')\n",
    "plt.title('GDP Per Capita Trends')\n",
    "plt.ylabel('GDP Per Capita')"
   ]
  },
  {
   "cell_type": "markdown",
   "id": "0b46ebc4",
   "metadata": {},
   "source": [
    "<hr>\n",
    "\n",
    "##### 30.\tIs there anything surprising or unusual in any of these plots? Searching on the internet, can you find any possible explanations for unusual findings?\n",
    "\n",
    "Answer:\n",
    ">Macao, China had a notable increase in GDP per capita around 2009 compared to the other countries. A possible reason for this is the construction of several mega-resorts in Macao which brought in increased revenue from gambling.\n",
    "\n",
    ">Central African Republic had a notable decrease in GDP per capita from 2009 to 2014 compared to the other countries, which saw only an increase after 2009. Possible causes of CAR's decline: the fall of its north and central regions to rebel armies in 2012 and the fall of its capital in 2013 followed by occupation of the region by the new regime.\n",
    "\n",
    ">Somalia is missing GDP data. Possible reasons for Somalia's lack of data from 1991-2012: its government was overthrown in 1991 by opposition groups and it wasn't until 2012 that the country instituted a permanent central government."
   ]
  }
 ],
 "metadata": {
  "kernelspec": {
   "display_name": "Python 3 (ipykernel)",
   "language": "python",
   "name": "python3"
  },
  "language_info": {
   "codemirror_mode": {
    "name": "ipython",
    "version": 3
   },
   "file_extension": ".py",
   "mimetype": "text/x-python",
   "name": "python",
   "nbconvert_exporter": "python",
   "pygments_lexer": "ipython3",
   "version": "3.9.13"
  }
 },
 "nbformat": 4,
 "nbformat_minor": 5
}
